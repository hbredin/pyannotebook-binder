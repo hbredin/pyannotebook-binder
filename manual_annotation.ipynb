{
 "cells": [
  {
   "cell_type": "code",
   "execution_count": null,
   "id": "ed1f166e",
   "metadata": {},
   "outputs": [],
   "source": [
    "from pyannotebook import Pyannotebook, load_rttm\n",
    "widget = Pyannotebook(\"sample.wav\")\n",
    "widget"
   ]
  },
  {
   "cell_type": "markdown",
   "id": "5e9b3573",
   "metadata": {},
   "source": [
    "Step 1: start a timer"
   ]
  },
  {
   "cell_type": "code",
   "execution_count": null,
   "id": "50bbd17a",
   "metadata": {},
   "outputs": [],
   "source": [
    "import time\n",
    "start_time = time.time()"
   ]
  },
  {
   "cell_type": "markdown",
   "id": "32803ff0",
   "metadata": {},
   "source": [
    "Step 2: listen to the whole excerpt (press <kbd>SPACE</kbd> to toggle play/pause)  \n",
    "Step 3: Manually annotate this conversation as precisely as possible\n",
    "  * Drag-and-drop to create a speech turn\n",
    "  * Press a letter (<kbd>A</kbd>, <kbd>B</kbd>, <kbd>C</kbd>, etc.) to assign it a label\n",
    "  * You may as well use any of the convenient [keyboard shortcuts](https://github.com/hbredin/pyannotebook/blob/main/examples/introduction.ipynb)"
   ]
  },
  {
   "cell_type": "markdown",
   "id": "c8c345d9",
   "metadata": {},
   "source": [
    "Step 4. Stop the timer (and realize that it took a loooong time to annotate a 30s conversation)"
   ]
  },
  {
   "cell_type": "code",
   "execution_count": null,
   "id": "926f1e66",
   "metadata": {},
   "outputs": [],
   "source": [
    "end_time = time.time()\n",
    "duration = round(end_time - start_time)\n",
    "print(f\"It took you {duration:d} seconds to label a 30s conversation.\")"
   ]
  },
  {
   "cell_type": "markdown",
   "id": "2cbd7b0e",
   "metadata": {},
   "source": [
    "Step 5. Dump your annotation to an RTTM file and share it on Discord"
   ]
  },
  {
   "cell_type": "code",
   "execution_count": null,
   "id": "c088372f",
   "metadata": {},
   "outputs": [],
   "source": [
    "firstname = \"Herve\"  # that's my name, use your own ;-)\n",
    "lastname = \"Bredin\"\n",
    "rttm = f\"{firstname}{lastname}.{duration:04d}.rttm\"\n",
    "with open(rttm, 'w') as f:\n",
    "    widget.annotation.write_rttm(f)"
   ]
  },
  {
   "cell_type": "markdown",
   "id": "504c0cd7",
   "metadata": {},
   "source": [
    "Step 6. Compare your annotation with the one generated py `pyannote` pretrained pipeline"
   ]
  },
  {
   "cell_type": "code",
   "execution_count": null,
   "id": "6a49d508",
   "metadata": {},
   "outputs": [],
   "source": [
    "widget_auto = Pyannotebook(\"sample.wav\")\n",
    "widget_auto"
   ]
  },
  {
   "cell_type": "code",
   "execution_count": null,
   "id": "f2262fa5",
   "metadata": {},
   "outputs": [],
   "source": [
    "widget_auto.annotation = load_rttm(\"auto.rttm\")[\"sample\"]"
   ]
  }
 ],
 "metadata": {
  "kernelspec": {
   "display_name": "Python 3 (ipykernel)",
   "language": "python",
   "name": "python3"
  }
 },
 "nbformat": 4,
 "nbformat_minor": 5
}
