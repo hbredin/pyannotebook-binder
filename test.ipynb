{
 "cells": [
  {
   "cell_type": "code",
   "execution_count": null,
   "id": "ed1f166e",
   "metadata": {},
   "outputs": [],
   "source": [
    "from pyannotebook import Pyannotebook\n",
    "widget = Pyannotebook(\"sample.wav\")"
   ]
  },
  {
   "cell_type": "code",
   "execution_count": null,
   "id": "3a693042",
   "metadata": {},
   "outputs": [
    {
     "data": {
      "application/vnd.jupyter.widget-view+json": {
       "model_id": "9904d89acc404aa98b1b8aaf2561e421",
       "version_major": 2,
       "version_minor": 0
      },
      "text/plain": [
       "Pyannotebook(children=(WavesurferWidget(active_label='a', b64='data:audio/x-wav;base64,UklGRjJMHQBXQVZFZm10IBI…"
      ]
     },
     "execution_count": null,
     "metadata": {},
     "output_type": "execute_result"
    }
   ],
   "source": [
    "widget"
   ]
  }
 ],
 "metadata": {
  "kernelspec": {
   "display_name": "Python 3 (ipykernel)",
   "language": "python",
   "name": "python3"
  }
 },
 "nbformat": 4,
 "nbformat_minor": 5
}
